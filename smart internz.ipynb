{
 "cells": [
  {
   "cell_type": "markdown",
   "id": "2005491e",
   "metadata": {},
   "source": [
    "# Importing libraries"
   ]
  },
  {
   "cell_type": "code",
   "execution_count": 46,
   "id": "a9ae9ff5",
   "metadata": {},
   "outputs": [],
   "source": [
    "import numpy as np\n",
    "import pandas as pd\n",
    "import matplotlib.pyplot as plt\n",
    "import seaborn as sns"
   ]
  },
  {
   "cell_type": "markdown",
   "id": "8505cb0e",
   "metadata": {},
   "source": [
    "# Reading the dataset"
   ]
  },
  {
   "cell_type": "code",
   "execution_count": 48,
   "id": "48e04ba6",
   "metadata": {},
   "outputs": [
    {
     "data": {
      "text/html": [
       "<div>\n",
       "<style scoped>\n",
       "    .dataframe tbody tr th:only-of-type {\n",
       "        vertical-align: middle;\n",
       "    }\n",
       "\n",
       "    .dataframe tbody tr th {\n",
       "        vertical-align: top;\n",
       "    }\n",
       "\n",
       "    .dataframe thead th {\n",
       "        text-align: right;\n",
       "    }\n",
       "</style>\n",
       "<table border=\"1\" class=\"dataframe\">\n",
       "  <thead>\n",
       "    <tr style=\"text-align: right;\">\n",
       "      <th></th>\n",
       "      <th>Date</th>\n",
       "      <th>Price</th>\n",
       "    </tr>\n",
       "  </thead>\n",
       "  <tbody>\n",
       "    <tr>\n",
       "      <th>0</th>\n",
       "      <td>07-01-1997</td>\n",
       "      <td>3.82</td>\n",
       "    </tr>\n",
       "    <tr>\n",
       "      <th>1</th>\n",
       "      <td>08-01-1997</td>\n",
       "      <td>3.80</td>\n",
       "    </tr>\n",
       "    <tr>\n",
       "      <th>2</th>\n",
       "      <td>09-01-1997</td>\n",
       "      <td>3.61</td>\n",
       "    </tr>\n",
       "    <tr>\n",
       "      <th>3</th>\n",
       "      <td>10-01-1997</td>\n",
       "      <td>3.92</td>\n",
       "    </tr>\n",
       "    <tr>\n",
       "      <th>4</th>\n",
       "      <td>13-01-1997</td>\n",
       "      <td>4.00</td>\n",
       "    </tr>\n",
       "    <tr>\n",
       "      <th>...</th>\n",
       "      <td>...</td>\n",
       "      <td>...</td>\n",
       "    </tr>\n",
       "    <tr>\n",
       "      <th>5933</th>\n",
       "      <td>05-08-2020</td>\n",
       "      <td>2.23</td>\n",
       "    </tr>\n",
       "    <tr>\n",
       "      <th>5934</th>\n",
       "      <td>06-08-2020</td>\n",
       "      <td>2.26</td>\n",
       "    </tr>\n",
       "    <tr>\n",
       "      <th>5935</th>\n",
       "      <td>07-08-2020</td>\n",
       "      <td>2.15</td>\n",
       "    </tr>\n",
       "    <tr>\n",
       "      <th>5936</th>\n",
       "      <td>10-08-2020</td>\n",
       "      <td>2.18</td>\n",
       "    </tr>\n",
       "    <tr>\n",
       "      <th>5937</th>\n",
       "      <td>11-08-2020</td>\n",
       "      <td>2.19</td>\n",
       "    </tr>\n",
       "  </tbody>\n",
       "</table>\n",
       "<p>5938 rows × 2 columns</p>\n",
       "</div>"
      ],
      "text/plain": [
       "            Date  Price\n",
       "0     07-01-1997   3.82\n",
       "1     08-01-1997   3.80\n",
       "2     09-01-1997   3.61\n",
       "3     10-01-1997   3.92\n",
       "4     13-01-1997   4.00\n",
       "...          ...    ...\n",
       "5933  05-08-2020   2.23\n",
       "5934  06-08-2020   2.26\n",
       "5935  07-08-2020   2.15\n",
       "5936  10-08-2020   2.18\n",
       "5937  11-08-2020   2.19\n",
       "\n",
       "[5938 rows x 2 columns]"
      ]
     },
     "execution_count": 48,
     "metadata": {},
     "output_type": "execute_result"
    }
   ],
   "source": [
    "data=pd.read_csv(r'C:\\Users\\abish\\Downloads\\natural_gas_price.csv')\n",
    "data"
   ]
  },
  {
   "cell_type": "code",
   "execution_count": 50,
   "id": "72e562ce",
   "metadata": {},
   "outputs": [
    {
     "data": {
      "text/html": [
       "<div>\n",
       "<style scoped>\n",
       "    .dataframe tbody tr th:only-of-type {\n",
       "        vertical-align: middle;\n",
       "    }\n",
       "\n",
       "    .dataframe tbody tr th {\n",
       "        vertical-align: top;\n",
       "    }\n",
       "\n",
       "    .dataframe thead th {\n",
       "        text-align: right;\n",
       "    }\n",
       "</style>\n",
       "<table border=\"1\" class=\"dataframe\">\n",
       "  <thead>\n",
       "    <tr style=\"text-align: right;\">\n",
       "      <th></th>\n",
       "      <th>Date</th>\n",
       "      <th>Price</th>\n",
       "    </tr>\n",
       "  </thead>\n",
       "  <tbody>\n",
       "    <tr>\n",
       "      <th>0</th>\n",
       "      <td>07-01-1997</td>\n",
       "      <td>3.82</td>\n",
       "    </tr>\n",
       "    <tr>\n",
       "      <th>1</th>\n",
       "      <td>08-01-1997</td>\n",
       "      <td>3.80</td>\n",
       "    </tr>\n",
       "    <tr>\n",
       "      <th>2</th>\n",
       "      <td>09-01-1997</td>\n",
       "      <td>3.61</td>\n",
       "    </tr>\n",
       "    <tr>\n",
       "      <th>3</th>\n",
       "      <td>10-01-1997</td>\n",
       "      <td>3.92</td>\n",
       "    </tr>\n",
       "    <tr>\n",
       "      <th>4</th>\n",
       "      <td>13-01-1997</td>\n",
       "      <td>4.00</td>\n",
       "    </tr>\n",
       "  </tbody>\n",
       "</table>\n",
       "</div>"
      ],
      "text/plain": [
       "         Date  Price\n",
       "0  07-01-1997   3.82\n",
       "1  08-01-1997   3.80\n",
       "2  09-01-1997   3.61\n",
       "3  10-01-1997   3.92\n",
       "4  13-01-1997   4.00"
      ]
     },
     "execution_count": 50,
     "metadata": {},
     "output_type": "execute_result"
    }
   ],
   "source": [
    "data.head()\n"
   ]
  },
  {
   "cell_type": "code",
   "execution_count": null,
   "id": "b6b3b174",
   "metadata": {},
   "outputs": [],
   "source": [
    "data['Date'] = pd.to_datetime(data['Date'], format='%d-%m-%Y')\n",
    "\n",
    "data['year'] = data['Date'].dt.year\n",
    "data['month'] = data['Date'].dt.month\n",
    "data['day'] = data['Date'].dt.day"
   ]
  },
  {
   "cell_type": "code",
   "execution_count": null,
   "id": "c2c1b2d1",
   "metadata": {},
   "outputs": [],
   "source": [
    "data.drop('Date',axis=1,inplace=True)"
   ]
  },
  {
   "cell_type": "code",
   "execution_count": null,
   "id": "a28396cf",
   "metadata": {},
   "outputs": [],
   "source": [
    "\n",
    "data"
   ]
  },
  {
   "cell_type": "markdown",
   "id": "521ea167",
   "metadata": {},
   "source": [
    "# Handling NULL Values"
   ]
  },
  {
   "cell_type": "code",
   "execution_count": null,
   "id": "d28b8cd1",
   "metadata": {},
   "outputs": [],
   "source": [
    "data.isnull().any()\n"
   ]
  },
  {
   "cell_type": "code",
   "execution_count": null,
   "id": "94b762cb",
   "metadata": {},
   "outputs": [],
   "source": [
    "sns.distplot(data['Price'].dropna())\n"
   ]
  },
  {
   "cell_type": "code",
   "execution_count": null,
   "id": "2653965c",
   "metadata": {},
   "outputs": [],
   "source": [
    "data['Price'].fillna(data['Price'].median(),inplace=True)\n"
   ]
  },
  {
   "cell_type": "code",
   "execution_count": null,
   "id": "787df664",
   "metadata": {},
   "outputs": [],
   "source": [
    "data.isnull().sum()\n"
   ]
  },
  {
   "cell_type": "code",
   "execution_count": null,
   "id": "863847a7",
   "metadata": {},
   "outputs": [],
   "source": [
    "data.describe()\n"
   ]
  },
  {
   "cell_type": "markdown",
   "id": "d1b2f88c",
   "metadata": {},
   "source": [
    "# Finding and Removing Outliers"
   ]
  },
  {
   "cell_type": "code",
   "execution_count": null,
   "id": "f0d58c5d",
   "metadata": {},
   "outputs": [],
   "source": [
    "sns.boxplot(data['Price'])\n"
   ]
  },
  {
   "cell_type": "code",
   "execution_count": null,
   "id": "31a0a50c",
   "metadata": {},
   "outputs": [],
   "source": [
    "from scipy import stats\n"
   ]
  },
  {
   "cell_type": "code",
   "execution_count": null,
   "id": "764c9ef2",
   "metadata": {},
   "outputs": [],
   "source": [
    "z=np.abs(stats.zscore(data))\n",
    "z\n"
   ]
  },
  {
   "cell_type": "code",
   "execution_count": null,
   "id": "59372542",
   "metadata": {},
   "outputs": [],
   "source": [
    "threshold=3\n",
    "np.where(z>threshold)\n"
   ]
  },
  {
   "cell_type": "code",
   "execution_count": null,
   "id": "b89f0c3c",
   "metadata": {},
   "outputs": [],
   "source": [
    "df_no_outliers=data[(z<=3).all(axis=1)]\n",
    "df_no_outliers\n"
   ]
  },
  {
   "cell_type": "code",
   "execution_count": null,
   "id": "728bc71e",
   "metadata": {},
   "outputs": [],
   "source": [
    "df_no_outliers.shape\n"
   ]
  },
  {
   "cell_type": "markdown",
   "id": "3d1d9daa",
   "metadata": {},
   "source": [
    "# Data Visualization"
   ]
  },
  {
   "cell_type": "code",
   "execution_count": null,
   "id": "35934b1e",
   "metadata": {},
   "outputs": [],
   "source": [
    "fig=plt.figure(figsize=(5,5))\n",
    "plt.scatter(data['day'],data['Price'],color='pink')\n",
    "plt.xlabel('day')\n",
    "plt.ylabel('Price')\n",
    "plt.title('PRICE OF NATURAL GAS ON THE BASIS OF DAYS OF A MONTH')\n",
    "plt.legend()"
   ]
  },
  {
   "cell_type": "code",
   "execution_count": null,
   "id": "dcfecc7f",
   "metadata": {},
   "outputs": [],
   "source": [
    "fig=plt.figure(figsize=(5,5))\n",
    "plt.scatter(data['year'],data['Price'],color='green')\n",
    "plt.xlabel('month')\n",
    "plt.ylabel('Price')\n",
    "plt.title('PRICE OF NATURAL GAS ON THE BASIS OF MONTHS OF A YEAR')\n",
    "plt.legend()"
   ]
  },
  {
   "cell_type": "code",
   "execution_count": null,
   "id": "03a07247",
   "metadata": {},
   "outputs": [],
   "source": [
    "sns.heatmap(data.corr())\n"
   ]
  },
  {
   "cell_type": "code",
   "execution_count": null,
   "id": "b9975bac",
   "metadata": {},
   "outputs": [],
   "source": [
    "plt.bar(data['month'],data['Price'],color='blue')\n",
    "plt.xlabel('month')\n",
    "plt.ylabel('Price')\n",
    "plt.title('PRICE OF NATURAL GAS ON THE BASIS OF MONTHS OF A YEAR')\n",
    "plt.legend()"
   ]
  },
  {
   "cell_type": "code",
   "execution_count": null,
   "id": "7721a2b4",
   "metadata": {},
   "outputs": [],
   "source": [
    "sns.lineplot(x='year',y='Price',data=data,color='blue')\n"
   ]
  },
  {
   "cell_type": "code",
   "execution_count": null,
   "id": "18222518",
   "metadata": {},
   "outputs": [],
   "source": [
    "sns.lineplot(x='month',y='Price',data=data,color='blue')\n"
   ]
  },
  {
   "cell_type": "code",
   "execution_count": null,
   "id": "2b88d1f4",
   "metadata": {},
   "outputs": [],
   "source": [
    "sns.lineplot(x='day',y='Price',data=data,color='blue')\n"
   ]
  },
  {
   "cell_type": "code",
   "execution_count": null,
   "id": "d9d96497",
   "metadata": {},
   "outputs": [],
   "source": [
    "data['Price'].hist(bins=90)\n"
   ]
  },
  {
   "cell_type": "code",
   "execution_count": null,
   "id": "1bc762e1",
   "metadata": {},
   "outputs": [],
   "source": [
    "data.boxplot(column='Price',by='month')\n"
   ]
  },
  {
   "cell_type": "code",
   "execution_count": null,
   "id": "4dec542b",
   "metadata": {},
   "outputs": [],
   "source": [
    "sns.pairplot(data)\n",
    "plt.show()\n"
   ]
  },
  {
   "cell_type": "markdown",
   "id": "8971ae74",
   "metadata": {},
   "source": [
    "# Separating Dependent and Independent Variables"
   ]
  },
  {
   "cell_type": "code",
   "execution_count": 88,
   "id": "ff5fbd68",
   "metadata": {},
   "outputs": [
    {
     "data": {
      "text/plain": [
       "array([[3.82],\n",
       "       [3.8 ],\n",
       "       [3.61],\n",
       "       ...,\n",
       "       [2.15],\n",
       "       [2.18],\n",
       "       [2.19]])"
      ]
     },
     "execution_count": 88,
     "metadata": {},
     "output_type": "execute_result"
    }
   ],
   "source": [
    "x=data.iloc[:,1:4].values\n",
    "y=data.iloc[:,0].values\n",
    "x\n"
   ]
  },
  {
   "cell_type": "code",
   "execution_count": 89,
   "id": "ba040c57",
   "metadata": {},
   "outputs": [
    {
     "data": {
      "text/plain": [
       "array(['07-01-1997', '08-01-1997', '09-01-1997', ..., '07-08-2020',\n",
       "       '10-08-2020', '11-08-2020'], dtype=object)"
      ]
     },
     "execution_count": 89,
     "metadata": {},
     "output_type": "execute_result"
    }
   ],
   "source": [
    "y"
   ]
  },
  {
   "cell_type": "code",
   "execution_count": 90,
   "id": "95217207",
   "metadata": {},
   "outputs": [
    {
     "data": {
      "text/plain": [
       "array([[3.82],\n",
       "       [3.8 ],\n",
       "       [3.61],\n",
       "       ...,\n",
       "       [2.15],\n",
       "       [2.18],\n",
       "       [2.19]])"
      ]
     },
     "execution_count": 90,
     "metadata": {},
     "output_type": "execute_result"
    }
   ],
   "source": [
    "x"
   ]
  },
  {
   "cell_type": "code",
   "execution_count": 91,
   "id": "93642b10",
   "metadata": {},
   "outputs": [
    {
     "data": {
      "text/plain": [
       "array([[-0.16851934],\n",
       "       [-0.17764749],\n",
       "       [-0.26436485],\n",
       "       ...,\n",
       "       [-0.93071936],\n",
       "       [-0.91702715],\n",
       "       [-0.91246307]])"
      ]
     },
     "execution_count": 91,
     "metadata": {},
     "output_type": "execute_result"
    }
   ],
   "source": [
    "from sklearn.preprocessing import StandardScaler\n",
    "sc= StandardScaler()\n",
    "x=sc.fit_transform(x)\n",
    "x\n"
   ]
  },
  {
   "cell_type": "markdown",
   "id": "5c629873",
   "metadata": {},
   "source": [
    "# Train and Test"
   ]
  },
  {
   "cell_type": "code",
   "execution_count": 87,
   "id": "b65d4474",
   "metadata": {},
   "outputs": [],
   "source": [
    "from sklearn.model_selection import train_test_split\n",
    "x_train,x_test,y_train,y_test=train_test_split(x,y,test_size=0.2,random_state=0)"
   ]
  },
  {
   "cell_type": "code",
   "execution_count": 86,
   "id": "585b0527",
   "metadata": {},
   "outputs": [
    {
     "data": {
      "text/plain": [
       "(4750, 3)"
      ]
     },
     "execution_count": 86,
     "metadata": {},
     "output_type": "execute_result"
    }
   ],
   "source": [
    "x_train.shape"
   ]
  },
  {
   "cell_type": "code",
   "execution_count": 85,
   "id": "74ff935d",
   "metadata": {},
   "outputs": [
    {
     "data": {
      "text/plain": [
       "(4750,)"
      ]
     },
     "execution_count": 85,
     "metadata": {},
     "output_type": "execute_result"
    }
   ],
   "source": [
    "y_train.shape\n"
   ]
  },
  {
   "cell_type": "markdown",
   "id": "c973776a",
   "metadata": {},
   "source": [
    "# Model Building"
   ]
  },
  {
   "cell_type": "markdown",
   "id": "a6cd98a3",
   "metadata": {},
   "source": [
    "## Decision Tree Regressor"
   ]
  },
  {
   "cell_type": "code",
   "execution_count": 59,
   "id": "6b68f281",
   "metadata": {},
   "outputs": [],
   "source": [
    "from sklearn.model_selection import GridSearchCV\n",
    "from sklearn.tree import DecisionTreeRegressor"
   ]
  },
  {
   "cell_type": "code",
   "execution_count": 60,
   "id": "90898ddf",
   "metadata": {},
   "outputs": [
    {
     "name": "stdout",
     "output_type": "stream",
     "text": [
      "{'criterion': 'squared_error', 'max_depth': 10, 'min_samples_split': 10, 'splitter': 'best'}\n"
     ]
    }
   ],
   "source": [
    "DecisionTreeRegressor()\n",
    "df_grid = GridSearchCV(DecisionTreeRegressor(),param_grid = {'criterion':['squared_error', 'friedman_mse', 'absolute_error', 'poisson'],'splitter': ['best', 'random'],'max_depth': range(1, 11),'min_samples_split': range(10, 60, 10),},cv=5,n_jobs=1,scoring='neg_mean_squared_error')\n",
    "df_grid.fit(x_train, y_train)\n",
    "print(df_grid.best_params_)"
   ]
  },
  {
   "cell_type": "code",
   "execution_count": 61,
   "id": "35c43475",
   "metadata": {},
   "outputs": [
    {
     "data": {
      "text/plain": [
       "DecisionTreeRegressor(max_depth=10, min_samples_split=10)"
      ]
     },
     "execution_count": 61,
     "metadata": {},
     "output_type": "execute_result"
    }
   ],
   "source": [
    "df=DecisionTreeRegressor(criterion='squared_error',max_depth=10,min_samples_split=10,splitter='best')\n",
    "df.fit(x_train,y_train)"
   ]
  },
  {
   "cell_type": "code",
   "execution_count": 62,
   "id": "7ca887e0",
   "metadata": {},
   "outputs": [
    {
     "data": {
      "text/plain": [
       "array([3.11933333, 2.88277228, 8.24      , ..., 2.15      , 3.708     ,\n",
       "       4.6204878 ])"
      ]
     },
     "execution_count": 62,
     "metadata": {},
     "output_type": "execute_result"
    }
   ],
   "source": [
    "y_pred_df=df.predict(x_test)\n",
    "y_pred_df"
   ]
  },
  {
   "cell_type": "code",
   "execution_count": 63,
   "id": "950f41a4",
   "metadata": {},
   "outputs": [
    {
     "data": {
      "text/plain": [
       "array([3.56, 3.02, 7.26, ..., 2.09, 4.01, 4.46])"
      ]
     },
     "execution_count": 63,
     "metadata": {},
     "output_type": "execute_result"
    }
   ],
   "source": [
    "y_test\n"
   ]
  },
  {
   "cell_type": "code",
   "execution_count": 64,
   "id": "5d7b276c",
   "metadata": {},
   "outputs": [
    {
     "name": "stdout",
     "output_type": "stream",
     "text": [
      "0.9748852419473413\n"
     ]
    }
   ],
   "source": [
    "from sklearn.metrics import r2_score\n",
    "accur_df=r2_score(y_test,y_pred_df)\n",
    "print(accur_df)\n"
   ]
  },
  {
   "cell_type": "code",
   "execution_count": 93,
   "id": "83465082",
   "metadata": {},
   "outputs": [
    {
     "data": {
      "text/plain": [
       "['C:\\\\Users\\\\abish\\\\OneDrive\\\\Documents\\\\Project\\\\gas.joblib']"
      ]
     },
     "execution_count": 93,
     "metadata": {},
     "output_type": "execute_result"
    }
   ],
   "source": [
    "import joblib\n",
    "joblib.dump(df, r\"C:\\Users\\abish\\OneDrive\\Documents\\Project\\gas.joblib\")\n"
   ]
  },
  {
   "cell_type": "markdown",
   "id": "fbe49756",
   "metadata": {},
   "source": [
    "## Random Forest Regressor"
   ]
  },
  {
   "cell_type": "code",
   "execution_count": 68,
   "id": "8daf16aa",
   "metadata": {},
   "outputs": [],
   "source": [
    "from sklearn.ensemble import RandomForestRegressor"
   ]
  },
  {
   "cell_type": "code",
   "execution_count": 69,
   "id": "6f47918e",
   "metadata": {},
   "outputs": [
    {
     "data": {
      "text/plain": [
       "array([3.54, 3.04, 7.4 , ..., 2.16, 3.77, 4.35])"
      ]
     },
     "execution_count": 69,
     "metadata": {},
     "output_type": "execute_result"
    }
   ],
   "source": [
    "rfr = RandomForestRegressor(n_estimators=1, random_state=10)\n",
    "rfr.fit(x_train,y_train)\n",
    "y_pred_rfr=rfr.predict(x_test)\n",
    "y_pred_rfr"
   ]
  },
  {
   "cell_type": "code",
   "execution_count": 70,
   "id": "3ac8745f",
   "metadata": {},
   "outputs": [
    {
     "data": {
      "text/plain": [
       "array([3.56, 3.02, 7.26, ..., 2.09, 4.01, 4.46])"
      ]
     },
     "execution_count": 70,
     "metadata": {},
     "output_type": "execute_result"
    }
   ],
   "source": [
    "y_test"
   ]
  },
  {
   "cell_type": "code",
   "execution_count": 71,
   "id": "95889154",
   "metadata": {},
   "outputs": [
    {
     "name": "stdout",
     "output_type": "stream",
     "text": [
      "0.9773693648709125\n"
     ]
    }
   ],
   "source": [
    "accur_rfr=r2_score(y_test,y_pred_rfr)\n",
    "print(accur_rfr)"
   ]
  },
  {
   "cell_type": "code",
   "execution_count": 84,
   "id": "b2f0dbcf",
   "metadata": {},
   "outputs": [
    {
     "data": {
      "text/plain": [
       "['C:\\\\Users\\\\abish\\\\OneDrive\\\\Documents\\\\Project\\\\RandomForestRegressor.pkl']"
      ]
     },
     "execution_count": 84,
     "metadata": {},
     "output_type": "execute_result"
    }
   ],
   "source": [
    "joblib.dump(rfr,r\"C:\\Users\\abish\\OneDrive\\Documents\\Project\\RandomForestRegressor.pkl\")"
   ]
  },
  {
   "cell_type": "markdown",
   "id": "394e334a",
   "metadata": {},
   "source": [
    "# Model Evaluation for Decision Tree Regressor"
   ]
  },
  {
   "cell_type": "code",
   "execution_count": 73,
   "id": "0c6a4399",
   "metadata": {},
   "outputs": [
    {
     "data": {
      "text/plain": [
       "0.21435522699781956"
      ]
     },
     "execution_count": 73,
     "metadata": {},
     "output_type": "execute_result"
    }
   ],
   "source": [
    "from sklearn.metrics import mean_absolute_error,mean_squared_error\n",
    "mean_absolute_error(y_test,y_pred_df)\n"
   ]
  },
  {
   "cell_type": "code",
   "execution_count": 74,
   "id": "0cedc996",
   "metadata": {},
   "outputs": [
    {
     "data": {
      "text/plain": [
       "0.1330631627486958"
      ]
     },
     "execution_count": 74,
     "metadata": {},
     "output_type": "execute_result"
    }
   ],
   "source": [
    "mean_squared_error(y_test,y_pred_df)"
   ]
  },
  {
   "cell_type": "code",
   "execution_count": 75,
   "id": "a797f57f",
   "metadata": {},
   "outputs": [
    {
     "data": {
      "text/plain": [
       "0.36477823776740825"
      ]
     },
     "execution_count": 75,
     "metadata": {},
     "output_type": "execute_result"
    }
   ],
   "source": [
    "from math import sqrt\n",
    "sqrt(mean_squared_error(y_test,y_pred_df))"
   ]
  },
  {
   "cell_type": "markdown",
   "id": "1655377a",
   "metadata": {},
   "source": [
    "# Model Evaluation for Random Forest Regressor"
   ]
  },
  {
   "cell_type": "code",
   "execution_count": 76,
   "id": "66ef3c47",
   "metadata": {},
   "outputs": [
    {
     "data": {
      "text/plain": [
       "0.18007575757575758"
      ]
     },
     "execution_count": 76,
     "metadata": {},
     "output_type": "execute_result"
    }
   ],
   "source": [
    "mean_absolute_error(y_test,y_pred_rfr)"
   ]
  },
  {
   "cell_type": "code",
   "execution_count": 77,
   "id": "62c593da",
   "metadata": {},
   "outputs": [
    {
     "data": {
      "text/plain": [
       "0.11990176767676768"
      ]
     },
     "execution_count": 77,
     "metadata": {},
     "output_type": "execute_result"
    }
   ],
   "source": [
    "mean_squared_error(y_test,y_pred_rfr)\n"
   ]
  },
  {
   "cell_type": "code",
   "execution_count": 78,
   "id": "ab12d961",
   "metadata": {},
   "outputs": [
    {
     "data": {
      "text/plain": [
       "0.3462683463396094"
      ]
     },
     "execution_count": 78,
     "metadata": {},
     "output_type": "execute_result"
    }
   ],
   "source": [
    "sqrt(mean_squared_error(y_test,y_pred_rfr))\n"
   ]
  },
  {
   "cell_type": "code",
   "execution_count": null,
   "id": "3f86311c",
   "metadata": {},
   "outputs": [],
   "source": []
  },
  {
   "cell_type": "code",
   "execution_count": null,
   "id": "4c414ea1",
   "metadata": {},
   "outputs": [],
   "source": []
  },
  {
   "cell_type": "code",
   "execution_count": null,
   "id": "d382b11f",
   "metadata": {},
   "outputs": [],
   "source": []
  },
  {
   "cell_type": "code",
   "execution_count": null,
   "id": "94513ae8",
   "metadata": {},
   "outputs": [],
   "source": []
  },
  {
   "cell_type": "code",
   "execution_count": null,
   "id": "13a21bfc",
   "metadata": {},
   "outputs": [],
   "source": []
  }
 ],
 "metadata": {
  "kernelspec": {
   "display_name": "Python 3 (ipykernel)",
   "language": "python",
   "name": "python3"
  },
  "language_info": {
   "codemirror_mode": {
    "name": "ipython",
    "version": 3
   },
   "file_extension": ".py",
   "mimetype": "text/x-python",
   "name": "python",
   "nbconvert_exporter": "python",
   "pygments_lexer": "ipython3",
   "version": "3.9.12"
  }
 },
 "nbformat": 4,
 "nbformat_minor": 5
}
